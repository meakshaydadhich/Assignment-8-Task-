{
 "cells": [
  {
   "cell_type": "code",
   "execution_count": 22,
   "id": "1a73f54f",
   "metadata": {},
   "outputs": [
    {
     "name": "stdout",
     "output_type": "stream",
     "text": [
      "Enter your Password: AkshY@23@@\n",
      "Valid Password\n"
     ]
    }
   ],
   "source": [
    "# Q1. You are writing code for a company. The requirement of the company is that you create a python function that will check\n",
    "#     whether the password entered by the user is correct or not. The function should take the password as input and return\n",
    "#     the string “Valid Password” if the entered password follows the below-given password guidelines else it should return \n",
    "#     “Invalid Password”.\n",
    "\n",
    "#Note: 1. The Password should contain at least two uppercase letters and at least two lowercase letters.\n",
    "#      2. The Password should contain at least a number and three special characters.\n",
    "#      3. The length of the password should be 10 characters long.\n",
    "\n",
    "# Ans.\n",
    "\n",
    "def check_password(password):\n",
    "    if len(password) != 10:\n",
    "        print(\"Invalid Password\")\n",
    "    char_upper = 0\n",
    "    char_lower = 0\n",
    "    digit = 0\n",
    "    special_char = 0\n",
    "    for char in password:\n",
    "        if char.isupper():\n",
    "            char_upper += 1\n",
    "        elif char.islower():\n",
    "            char_lower += 1\n",
    "        elif char.isdigit():\n",
    "            digit += 1\n",
    "        elif char in \"!@#$%^&*()-+=\":\n",
    "            special_char += 1\n",
    "    \n",
    "    if char_upper >= 2 and char_lower >= 2 and digit >= 1 and special_char >= 3:\n",
    "        return \"Valid Password\"\n",
    "    else:\n",
    "        return \"InValid Password\"\n",
    "\n",
    "password = input(\"Enter your Password: \")\n",
    "result = check_password(password)\n",
    "print(result)"
   ]
  },
  {
   "cell_type": "code",
   "execution_count": 56,
   "id": "4c23f910",
   "metadata": {},
   "outputs": [
    {
     "name": "stdout",
     "output_type": "stream",
     "text": [
      "Enter your string: akshay\n",
      "Yes\n"
     ]
    }
   ],
   "source": [
    "# Q2. Solve the below-given questions using at least one of the following:\n",
    "#     1. Lambda function\n",
    "#     2. Filter function\n",
    "#     3. Map function\n",
    "#     4. List ComprehensioI\n",
    "\n",
    "#     - Check if the string starts with a particular letter.\n",
    "#     - Check if the string is numeric.\n",
    "#     - Sort a list of tuples having fruit names and their quantity. [(\"mango\",99),(\"orange\",80), (\"grapes\", 1000)]\n",
    "#     - Find the squares of numbers from 1 to 10.\n",
    "#     - Find the cube root of numbers from 1 to 10.\n",
    "#     - Check if a given number is even.\n",
    "#     - Filter odd numbers from the given list.\n",
    "#       [1,2,3,4,5,6,7,8,9,10]\n",
    "#     - Sort a list of integers into positive and negative integers lists.\n",
    "#       [1,2,3,4,5,6,-1,-2,-3,-4,-5,0]\n",
    "\n",
    "\n",
    "# Ans. Using Lambda Function:\n",
    "# 1- Check if the string starts with a particular letterY\n",
    "\n",
    "# Taking input from the user\n",
    "user_input = input(\"Enter your string: \")\n",
    "\n",
    "# Using a lambda function to check if the first character is a letter\n",
    "check_first_char = lambda x: \"Yes\" if x[0].isalpha() else \"No\"\n",
    "\n",
    "# Printing the result\n",
    "print(check_first_char(user_input))"
   ]
  },
  {
   "cell_type": "code",
   "execution_count": 62,
   "id": "6a154985",
   "metadata": {},
   "outputs": [
    {
     "name": "stdout",
     "output_type": "stream",
     "text": [
      "Enter your string: 112\n",
      "Yes\n"
     ]
    }
   ],
   "source": [
    "# 2- Check if the string is numeric.\n",
    "\n",
    "user_input = input(\"Enter your string: \")\n",
    "\n",
    "check_string_numeric = lambda x: \"Yes\" if x.isdigit() else \"No\"\n",
    "print(check_string_numeric(user_input))"
   ]
  },
  {
   "cell_type": "code",
   "execution_count": 99,
   "id": "6b22eefc",
   "metadata": {},
   "outputs": [
    {
     "name": "stdout",
     "output_type": "stream",
     "text": [
      "[('orange', 80), ('mango', 99), ('grapes', 1000)]\n"
     ]
    }
   ],
   "source": [
    "# 3- Sort a list of tuples having fruit names and their quantity.\n",
    "#    [(\"mango\",99),(\"orange\",80), (\"grapes\", 1000)]\n",
    "\n",
    "# Ans.\n",
    "list1 = [(\"mango\",99),(\"orange\",80), (\"grapes\", 1000)]\n",
    "result = sorted(list1, key = lambda x: x[1])\n",
    "print(result)"
   ]
  },
  {
   "cell_type": "code",
   "execution_count": 124,
   "id": "85389626",
   "metadata": {},
   "outputs": [
    {
     "data": {
      "text/plain": [
       "[1, 4, 9, 16, 25, 36, 49, 64, 81, 100]"
      ]
     },
     "execution_count": 124,
     "metadata": {},
     "output_type": "execute_result"
    }
   ],
   "source": [
    "# 4- Find the squares of numbers from 1 to 10.\n",
    "\n",
    "# Ans.\n",
    "# l = [1,2,3,4,5,6,7,8,9,10]\n",
    "l = list(range(1,11))\n",
    "# def sq(x):\n",
    "#     return x**2\n",
    "\n",
    "list(map(lambda x:x**2,l))"
   ]
  },
  {
   "cell_type": "code",
   "execution_count": 125,
   "id": "d1c325a0",
   "metadata": {},
   "outputs": [
    {
     "data": {
      "text/plain": [
       "[1, 8, 27, 64, 125, 216, 343, 512, 729, 1000]"
      ]
     },
     "execution_count": 125,
     "metadata": {},
     "output_type": "execute_result"
    }
   ],
   "source": [
    "# 5- Find the cube root of numbers from 1 to 10.\n",
    "\n",
    "# Ans.\n",
    "l = list(range(1,11))\n",
    "list(map(lambda x:x**3,l))"
   ]
  },
  {
   "cell_type": "code",
   "execution_count": 132,
   "id": "4adb50d5",
   "metadata": {},
   "outputs": [
    {
     "name": "stdout",
     "output_type": "stream",
     "text": [
      "Enter your number: 45\n",
      "odd\n"
     ]
    }
   ],
   "source": [
    "# 6- Check if a given number is even.\n",
    "\n",
    "# Ans- \n",
    "user_input = int(input(\"Enter your number: \"))\n",
    "result = lambda x: \"even\" if x%2==0 else \"odd\"\n",
    "print(result(user_input))"
   ]
  },
  {
   "cell_type": "code",
   "execution_count": 138,
   "id": "4ed10f00",
   "metadata": {},
   "outputs": [
    {
     "data": {
      "text/plain": [
       "[1, 3, 5, 7, 9]"
      ]
     },
     "execution_count": 138,
     "metadata": {},
     "output_type": "execute_result"
    }
   ],
   "source": [
    "# 7- Filter odd numbers from the given list.\n",
    "#    [1,2,3,4,5,6,7,8,9,10]\n",
    "\n",
    "# Ans.\n",
    "l = [1,2,3,4,5,6,7,8,9,10]\n",
    "list(filter(lambda x: x%2!=0, l))\n"
   ]
  },
  {
   "cell_type": "code",
   "execution_count": 158,
   "id": "e875a001",
   "metadata": {},
   "outputs": [
    {
     "name": "stdout",
     "output_type": "stream",
     "text": [
      "[1, 2, 3, 4, 5, 6]\n",
      "[-1, -2, -3, -4, -5]\n",
      "[0]\n"
     ]
    }
   ],
   "source": [
    "# 8- Sort a list of integers into positive and negative integers lists.\n",
    "#    [1,2,3,4,5,6,-1,-2,-3,-4,-5,0]\n",
    "\n",
    "# Ans.\n",
    "l = [1,2,3,4,5,6,-1,-2,-3,-4,-5,0]\n",
    "positive = list(filter(lambda x: x>0,l))\n",
    "negitive = list(filter(lambda x: x<0,l))\n",
    "zero = list(filter(lambda x: x==0, l))\n",
    "\n",
    "print(positive)\n",
    "print(negitive)\n",
    "print(zero)"
   ]
  },
  {
   "cell_type": "code",
   "execution_count": null,
   "id": "d93da85f",
   "metadata": {},
   "outputs": [],
   "source": []
  }
 ],
 "metadata": {
  "kernelspec": {
   "display_name": "Python 3 (ipykernel)",
   "language": "python",
   "name": "python3"
  },
  "language_info": {
   "codemirror_mode": {
    "name": "ipython",
    "version": 3
   },
   "file_extension": ".py",
   "mimetype": "text/x-python",
   "name": "python",
   "nbconvert_exporter": "python",
   "pygments_lexer": "ipython3",
   "version": "3.10.9"
  }
 },
 "nbformat": 4,
 "nbformat_minor": 5
}
